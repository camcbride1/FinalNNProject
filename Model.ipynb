{
 "cells": [
  {
   "cell_type": "code",
   "execution_count": 162,
   "metadata": {
    "metadata": {}
   },
   "outputs": [],
   "source": [
    "import pandas as pd\n",
    "import torch\n",
    "import torch.nn as nn\n",
    "import torch.optim as optim\n",
    "import numpy as np\n",
    "import matplotlib.pyplot as plt\n",
    "\n",
    "# Read Dataframe to get data\n",
    "df = pd.read_csv('test.csv')\n",
    "price_column = df['close']\n",
    "unchanged_stock_prices = price_column.to_numpy() \n",
    "stock_prices = (unchanged_stock_prices - np.min(unchanged_stock_prices)) / (np.max(unchanged_stock_prices) - np.min(unchanged_stock_prices))\n",
    "\n",
    "# Convert to PyTorch tensors and reshape for LSTM\n",
    "sequence_length = 8\n",
    "x_train, y_train = [], []\n",
    "\n",
    "for i in range(len(stock_prices) - sequence_length):\n",
    "    x_train.append(stock_prices[i:i + sequence_length])\n",
    "    y_train.append(stock_prices[i + sequence_length])\n",
    "\n",
    "# Reshape for LSTM\n",
    "x_train = torch.tensor(x_train, dtype=torch.float32).view(-1, sequence_length, 1)  \n",
    "y_train = torch.tensor(y_train, dtype=torch.float32).view(-1, 1)\n"
   ]
  },
  {
   "cell_type": "code",
   "execution_count": 163,
   "metadata": {
    "metadata": {}
   },
   "outputs": [],
   "source": [
    "# Define LSTM\n",
    "class LSTMModel(nn.Module):\n",
    "    def __init__(self, input_size, hidden_size, output_size, num_layers):\n",
    "        super(LSTMModel, self).__init__()\n",
    "        self.hidden_size = hidden_size\n",
    "        self.num_layers = num_layers\n",
    "        self.lstm = nn.LSTM(input_size, hidden_size, num_layers, batch_first=True)\n",
    "        self.fc = nn.Linear(hidden_size, output_size)\n",
    "    \n",
    "    def forward(self, x):\n",
    "        # Initialize hidden layers with zeroes\n",
    "        h0 = torch.zeros(self.num_layers, x.size(0), self.hidden_size)  # Hidden state\n",
    "        c0 = torch.zeros(self.num_layers, x.size(0), self.hidden_size)  # Cell state\n",
    "        \n",
    "        # LSTM forward pass\n",
    "        out, _ = self.lstm(x, (h0, c0))\n",
    "        \n",
    "        # Fully connected layer (only the output of the last time step)\n",
    "        out = self.fc(out[:, -1, :])  # Get the last time step output\n",
    "        return out"
   ]
  },
  {
   "cell_type": "code",
   "execution_count": 164,
   "metadata": {
    "metadata": {}
   },
   "outputs": [],
   "source": [
    "# Initialize model, loss, and optimizer\n",
    "input_size = 1        # Each week has 1 stock price\n",
    "hidden_size = 64      # Number of LSTM units\n",
    "output_size = 1       # Predicting 1 stock price\n",
    "num_layers = 2        # Double LSTM layer\n",
    "learning_rate = 0.001\n",
    "num_epochs = 100\n",
    "\n",
    "model = LSTMModel(input_size, hidden_size, output_size, num_layers)\n",
    "criterion = nn.MSELoss()\n",
    "optimizer = optim.Adam(model.parameters(), lr=learning_rate)\n"
   ]
  },
  {
   "cell_type": "code",
   "execution_count": 165,
   "metadata": {
    "metadata": {}
   },
   "outputs": [],
   "source": [
    "# Training\n",
    "for epoch in range(num_epochs):\n",
    "    model.train()\n",
    "    outputs = model(x_train)\n",
    "    loss = criterion(outputs, y_train)\n",
    "    \n",
    "    optimizer.zero_grad()\n",
    "    loss.backward()\n",
    "    optimizer.step()\n",
    "    \n",
    "    \"\"\"print statement for debug and loss\n",
    "    if (epoch + 1) % 10 == 0:\n",
    "        print(f'Epoch [{epoch+1}/{num_epochs}], Loss: {loss.item():.4f}')\"\"\"\n"
   ]
  },
  {
   "cell_type": "code",
   "execution_count": 166,
   "metadata": {
    "metadata": {}
   },
   "outputs": [],
   "source": [
    "# Testing on the training data (for simplicity)\n",
    "model.eval()\n",
    "predicted = model(x_train).detach().numpy()\n"
   ]
  },
  {
   "cell_type": "code",
   "execution_count": 167,
   "metadata": {
    "metadata": {}
   },
   "outputs": [],
   "source": [
    "# Output results to csv\n",
    "results = df[['Date', 'open']]\n",
    "results = results.set_index('Date')\n",
    "nan_array = np.full(8, np.nan)\n",
    "nan_array = nan_array.reshape(-1, 1)\n",
    "predicted = np.round(predicted * (np.max(unchanged_stock_prices) - np.min(unchanged_stock_prices)) + np.min(unchanged_stock_prices), 2)\n",
    "\n",
    "predicted = np.concatenate([nan_array, predicted])\n",
    "results['predicted'] = predicted\n",
    "results.to_csv('results.csv', index = True, na_rep = 'NA')\n",
    "\n"
   ]
  }
 ],
 "metadata": {
  "kernelspec": {
   "display_name": "NNFinal",
   "language": "python",
   "name": "python3"
  },
  "language_info": {
   "codemirror_mode": {
    "name": "ipython",
    "version": 3
   },
   "file_extension": ".py",
   "mimetype": "text/x-python",
   "name": "python",
   "nbconvert_exporter": "python",
   "pygments_lexer": "ipython3",
   "version": "3.12.4"
  }
 },
 "nbformat": 4,
 "nbformat_minor": 2
}
