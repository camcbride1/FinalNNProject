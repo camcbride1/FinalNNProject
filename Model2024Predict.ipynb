{
 "cells": [
  {
   "cell_type": "code",
   "execution_count": 1,
   "metadata": {
    "metadata": {}
   },
   "outputs": [
    {
     "name": "stderr",
     "output_type": "stream",
     "text": [
      "C:\\Users\\Colin.Mcbride.SERN\\AppData\\Local\\Temp\\ipykernel_19852\\3051339647.py:23: UserWarning: Creating a tensor from a list of numpy.ndarrays is extremely slow. Please consider converting the list to a single numpy.ndarray with numpy.array() before converting to a tensor. (Triggered internally at C:\\actions-runner\\_work\\pytorch\\pytorch\\builder\\windows\\pytorch\\torch\\csrc\\utils\\tensor_new.cpp:281.)\n",
      "  x_train = torch.tensor(x_train, dtype=torch.float32).view(-1, sequence_length, 1)\n"
     ]
    }
   ],
   "source": [
    "import pandas as pd\n",
    "import torch\n",
    "import torch.nn as nn\n",
    "import torch.optim as optim\n",
    "import numpy as np\n",
    "import matplotlib.pyplot as plt\n",
    "\n",
    "# Read Dataframe to get data\n",
    "df = pd.read_csv('AAPL_2023.csv')\n",
    "price_column = df['close']\n",
    "unchanged_stock_prices = price_column.to_numpy() \n",
    "stock_prices = (unchanged_stock_prices - np.min(unchanged_stock_prices)) / (np.max(unchanged_stock_prices) - np.min(unchanged_stock_prices))\n",
    "\n",
    "# Convert to PyTorch tensors and reshape for LSTM\n",
    "sequence_length = 8\n",
    "x_train, y_train = [], []\n",
    "\n",
    "for i in range(len(stock_prices) - sequence_length):\n",
    "    x_train.append(stock_prices[i:i + sequence_length])\n",
    "    y_train.append(stock_prices[i + sequence_length])\n",
    "\n",
    "# Reshape for LSTM\n",
    "x_train = torch.tensor(x_train, dtype=torch.float32).view(-1, sequence_length, 1)  \n",
    "y_train = torch.tensor(y_train, dtype=torch.float32).view(-1, 1)"
   ]
  },
  {
   "cell_type": "code",
   "execution_count": 2,
   "metadata": {
    "metadata": {}
   },
   "outputs": [],
   "source": [
    "# Define LSTM\n",
    "class LSTMModel(nn.Module):\n",
    "    def __init__(self, input_size, hidden_size, output_size, num_layers):\n",
    "        super(LSTMModel, self).__init__()\n",
    "        self.hidden_size = hidden_size\n",
    "        self.num_layers = num_layers\n",
    "        self.lstm = nn.LSTM(input_size, hidden_size, num_layers, batch_first=True)\n",
    "        self.fc = nn.Linear(hidden_size, output_size)\n",
    "    \n",
    "    def forward(self, x):\n",
    "        # Create hidden layer and cell layer\n",
    "        h0 = torch.zeros(self.num_layers, x.size(0), self.hidden_size)\n",
    "        c0 = torch.zeros(self.num_layers, x.size(0), self.hidden_size) \n",
    "        \n",
    "        # LSTM forward pass\n",
    "        out, _ = self.lstm(x, (h0, c0))\n",
    "        \n",
    "        # Fully connected layer\n",
    "        out = self.fc(out[:, -1, :])\n",
    "        return out"
   ]
  },
  {
   "cell_type": "code",
   "execution_count": 3,
   "metadata": {
    "metadata": {}
   },
   "outputs": [],
   "source": [
    "# Initialize model, loss, and optimizer\n",
    "input_size = 1        # Each week has 1 stock price\n",
    "hidden_size = 64      # Number of LSTM units\n",
    "output_size = 1       # Predicting 1 stock price\n",
    "num_layers = 2        # Double LSTM layer\n",
    "learning_rate = 0.001\n",
    "num_epochs = 100\n",
    "\n",
    "model = LSTMModel(input_size, hidden_size, output_size, num_layers)\n",
    "criterion = nn.MSELoss()\n",
    "optimizer = optim.Adam(model.parameters(), lr=learning_rate)"
   ]
  },
  {
   "cell_type": "code",
   "execution_count": 4,
   "metadata": {
    "metadata": {}
   },
   "outputs": [],
   "source": [
    "# Training\n",
    "for epoch in range(num_epochs):\n",
    "    model.train()\n",
    "    outputs = model(x_train)\n",
    "    loss = criterion(outputs, y_train)\n",
    "    \n",
    "    optimizer.zero_grad()\n",
    "    loss.backward()\n",
    "    optimizer.step()\n",
    "    \n",
    "    # Print statement for debug and loss\n",
    "    if (epoch + 1) % 10 == 0:\n",
    "        print(f'Epoch [{epoch+1}/{num_epochs}], Loss: {loss.item():.4f}')"
   ]
  },
  {
   "cell_type": "code",
   "execution_count": 5,
   "metadata": {
    "metadata": {}
   },
   "outputs": [],
   "source": [
    "# Predicting entire 2024\n",
    "model.eval()\n",
    "last_sequence = x_train[-1].unsqueeze(0)\n",
    "future_predictions = []\n",
    "for _ in range(365):\n",
    "    with torch.no_grad():\n",
    "        next_price = model(last_sequence)  # Predict next price\n",
    "    \n",
    "    future_predictions.append(next_price.item())\n",
    "    next_sequence = torch.cat((last_sequence[:, 1:, :], next_price.view(1, 1, 1)), dim=1)\n",
    "    last_sequence = next_sequence\n",
    "\n",
    "# Unnormalize values\n",
    "future_predictions = np.array(future_predictions)\n",
    "future_predictions = np.round(\n",
    "    future_predictions * (np.max(unchanged_stock_prices) - np.min(unchanged_stock_prices)) + np.min(unchanged_stock_prices), 2\n",
    ")\n",
    "\n",
    "# Output predictions\n",
    "print(\"Predicted stock prices for the next year:\", future_predictions)"
   ]
  }
 ],
 "metadata": {
  "kernelspec": {
   "display_name": "NNFinal",
   "language": "python",
   "name": "python3"
  },
  "language_info": {
   "codemirror_mode": {
    "name": "ipython",
    "version": 3
   },
   "file_extension": ".py",
   "mimetype": "text/x-python",
   "name": "python",
   "nbconvert_exporter": "python",
   "pygments_lexer": "ipython3",
   "version": "3.12.4"
  }
 },
 "nbformat": 4,
 "nbformat_minor": 2
}
